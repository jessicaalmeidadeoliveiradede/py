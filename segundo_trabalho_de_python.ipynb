{
  "nbformat": 4,
  "nbformat_minor": 0,
  "metadata": {
    "colab": {
      "provenance": [],
      "toc_visible": true,
      "authorship_tag": "ABX9TyPSofzAGl0tXjE52d72YGr2",
      "include_colab_link": true
    },
    "kernelspec": {
      "name": "python3",
      "display_name": "Python 3"
    },
    "language_info": {
      "name": "python"
    }
  },
  "cells": [
    {
      "cell_type": "markdown",
      "metadata": {
        "id": "view-in-github",
        "colab_type": "text"
      },
      "source": [
        "<a href=\"https://colab.research.google.com/github/jessicaalmeidadeoliveiradede/py/blob/main/segundo_trabalho_de_python.ipynb\" target=\"_parent\"><img src=\"https://colab.research.google.com/assets/colab-badge.svg\" alt=\"Open In Colab\"/></a>"
      ]
    },
    {
      "cell_type": "code",
      "source": [
        "id_cliente=int (input(\"digite o id_cliente\"))\n",
        "nome_cliente=str(input(\"digite o nome_cliente\"))\n",
        "data_vencimento=int(input(\"qual e data_vencimento do seu boleto\"))\n",
        "valor=float(input(\"qual e o valor do a seu boleto\"))\n",
        "email=str(input(\"qual o seu email\"))\n",
        "print(\"qual que o valor {}\",valor) \n",
        "print(\"você resbera o seu boleto por email{}\",email)\n",
        "print(\"se o valor não for pago no praso voce tera uma acrecimo {2%}\",valor)\n",
        "\n",
        "\n",
        "\n",
        "\n",
        "\n",
        "\n",
        " \n",
        "\n",
        "\n",
        " "
      ],
      "metadata": {
        "id": "JYuIcgJUpRST",
        "colab": {
          "base_uri": "https://localhost:8080/"
        },
        "outputId": "0967df62-84cd-49ad-d32c-d366b234652e"
      },
      "execution_count": 19,
      "outputs": [
        {
          "output_type": "stream",
          "name": "stdout",
          "text": [
            "digite o id_cliente 1\n",
            "digite o nome_cliente jessica\n",
            "qual e data_vencimento do seu boleto 20\n",
            "qual e o valor do a seu boleto20\n",
            "qual o seu email  jessicajfalmeida@gtmail.com\n",
            "qual que o valor {} 20.0\n",
            "você resbera o seu boleto por email{}   jessicajfalmeida@gtmail.com\n",
            "se o valor não for pago no praso voce tera uma acrecimo {2%} 20.0\n"
          ]
        }
      ]
    }
  ]
}